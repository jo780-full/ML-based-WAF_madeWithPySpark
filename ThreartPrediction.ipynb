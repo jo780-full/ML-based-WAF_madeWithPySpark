{
  "nbformat": 4,
  "nbformat_minor": 0,
  "metadata": {
    "colab": {
      "provenance": []
    },
    "kernelspec": {
      "name": "python3",
      "display_name": "Python 3"
    },
    "language_info": {
      "name": "python"
    }
  },
  "cells": [
    {
      "cell_type": "markdown",
      "source": [
        "# This project is Threat Prediction based on the ML-Based WAF but made using pyspark\n",
        "Link to github\n",
        "[here](https://github.com/vladan-stojnic/ML-based-WAF)"
      ],
      "metadata": {
        "id": "ijhZerwBgGsD"
      }
    },
    {
      "cell_type": "markdown",
      "source": [
        "# Setting Up Java and Spark\n"
      ],
      "metadata": {
        "id": "YNpZnhh3gt2B"
      }
    },
    {
      "cell_type": "code",
      "source": [
        "#Install Java\n",
        "#Installing Spark\n",
        "#UnTar files\n",
        "#Installing Modules\n",
        "!apt-get install openjdk-8-jdk-headless -qq > /dev/null\n",
        "!wget -q  https://dlcdn.apache.org/spark/spark-3.5.0/spark-3.5.0-bin-hadoop3.tgz\n",
        "!tar xf spark-3.5.0-bin-hadoop3.tgz\n",
        "!pip install -q findspark\n",
        "!pip install pyspark"
      ],
      "metadata": {
        "colab": {
          "base_uri": "https://localhost:8080/"
        },
        "id": "9ETGzOxLgs94",
        "outputId": "79647b1c-ebee-4692-e46e-6725860ece3a"
      },
      "execution_count": 2,
      "outputs": [
        {
          "output_type": "stream",
          "name": "stdout",
          "text": [
            "Requirement already satisfied: spark in /usr/local/lib/python3.10/dist-packages (0.2.1)\n",
            "Collecting pyspark\n",
            "  Downloading pyspark-3.5.0.tar.gz (316.9 MB)\n",
            "\u001b[2K     \u001b[90m━━━━━━━━━━━━━━━━━━━━━━━━━━━━━━━━━━━━━━━━\u001b[0m \u001b[32m316.9/316.9 MB\u001b[0m \u001b[31m4.2 MB/s\u001b[0m eta \u001b[36m0:00:00\u001b[0m\n",
            "\u001b[?25h  Preparing metadata (setup.py) ... \u001b[?25l\u001b[?25hdone\n",
            "Requirement already satisfied: py4j==0.10.9.7 in /usr/local/lib/python3.10/dist-packages (from pyspark) (0.10.9.7)\n",
            "Building wheels for collected packages: pyspark\n",
            "  Building wheel for pyspark (setup.py) ... \u001b[?25l\u001b[?25hdone\n",
            "  Created wheel for pyspark: filename=pyspark-3.5.0-py2.py3-none-any.whl size=317425344 sha256=9fd042eda6b713aefecec9ba109f534be92779a478e188bb447e137d65d34ed2\n",
            "  Stored in directory: /root/.cache/pip/wheels/41/4e/10/c2cf2467f71c678cfc8a6b9ac9241e5e44a01940da8fbb17fc\n",
            "Successfully built pyspark\n",
            "Installing collected packages: pyspark\n",
            "Successfully installed pyspark-3.5.0\n"
          ]
        }
      ]
    },
    {
      "cell_type": "markdown",
      "source": [
        "# Import Section and Initialization"
      ],
      "metadata": {
        "id": "MTmbkIZchKyG"
      }
    },
    {
      "cell_type": "code",
      "execution_count": 5,
      "metadata": {
        "id": "fjaAWKF3fUaY"
      },
      "outputs": [],
      "source": [
        "from google.colab import drive\n",
        "import matplotlib.pyplot as plt\n",
        "from pyspark.sql.functions import col, concat,lit,when\n",
        "from pyspark.sql import SparkSession\n",
        "import findspark\n",
        "from pyspark.ml.feature import Tokenizer,StopWordsRemover,CountVectorizer,StringIndexer\n",
        "from pyspark.ml.clustering import KMeans\n",
        "from pyspark.ml import Pipeline\n",
        "from pyspark.ml.classification import LogisticRegression,RandomForestClassifier\n",
        "from pyspark.ml.evaluation import ClusteringEvaluator,MulticlassClassificationEvaluator\n",
        "import matplotlib.pyplot as plt\n",
        "import seaborn as sn\n",
        "import os\n",
        "findspark.init()\n",
        "os.environ[\"JAVA_HOME\"] = \"/usr/lib/jvm/java-8-openjdk-amd64\"\n",
        "os.environ[\"SPARK_HOME\"] = \"/content/spark-3.5.0-bin-hadoop3\""
      ]
    },
    {
      "cell_type": "code",
      "source": [
        "spark = SparkSession.builder.appName(\"ML-BASED-WAF\").getOrCreate()"
      ],
      "metadata": {
        "id": "hubh6rYhh5mV"
      },
      "execution_count": 6,
      "outputs": []
    },
    {
      "cell_type": "markdown",
      "source": [
        "# Data and Processing"
      ],
      "metadata": {
        "id": "Mxzx2-jviTt0"
      }
    },
    {
      "cell_type": "code",
      "source": [
        "drive.mount('/content/drive')\n",
        "XSS_df = spark.read.csv('/content/drive/MyDrive/Dataset_WAF/XSS_dataset.csv',header=True,escape=\"\\\"\")\n",
        "Http_Params_df = spark.read.csv('/content/drive/MyDrive/Dataset_WAF/payload_full.csv',header=True,escape=\"\\\"\")\n",
        "Http_Params_lex_df = spark.read.csv('/content/drive/MyDrive/Dataset_WAF/payload_test_lexical.csv',header=True,escape=\"\\\"\")\n",
        "Emcl_data = spark.read.json('/content/drive/MyDrive/Dataset_WAF/ecml_data.json')"
      ],
      "metadata": {
        "colab": {
          "base_uri": "https://localhost:8080/"
        },
        "id": "1h9NYfa0iP7S",
        "outputId": "5c2e073a-314b-4182-9851-dd5424df827b"
      },
      "execution_count": 7,
      "outputs": [
        {
          "output_type": "stream",
          "name": "stdout",
          "text": [
            "Mounted at /content/drive\n"
          ]
        }
      ]
    },
    {
      "cell_type": "code",
      "source": [
        "XSS_df_with_type = ( XSS_df.withColumn(\"Sentence\",concat(col(\"Sentence\"),lit(\"xss\")))\n",
        ".withColumn(\"Label\", when(col(\"Label\")==1,\"xss\").otherwise(\"valid\")).drop(\"_c0\")\n",
        "                     )"
      ],
      "metadata": {
        "id": "n4LD35uUicXK"
      },
      "execution_count": 8,
      "outputs": []
    },
    {
      "cell_type": "code",
      "source": [
        "Http_Params_df_processed = (\n",
        "    Http_Params_df.withColumn(\"attack_type\",when(col(\"attack_type\") == \"norm\", \"valid\").otherwise(col(\"attack_type\"))).drop(\"length\").drop(\"label\"))\n"
      ],
      "metadata": {
        "id": "FCHDSQiPiw9k"
      },
      "execution_count": 9,
      "outputs": []
    },
    {
      "cell_type": "code",
      "source": [
        "Http_Params_lex_df_processed = (Http_Params_lex_df.withColumn(\"attack_type\", when(col(\"attack_type\") == \"sql-syntax\", \"sqli\")\n",
        "                                  .when(col(\"attack_type\") == \"js-syntax\", \"xss\")\n",
        "                                   .when(col(\"attack_type\") == \"norm\", \"valid\")\n",
        "                                  .otherwise(col(\"attack_type\"))).drop(\"length\").drop(\"label\")\n",
        ")\n"
      ],
      "metadata": {
        "id": "s9Rah4oLixLf"
      },
      "execution_count": 10,
      "outputs": []
    },
    {
      "cell_type": "code",
      "source": [
        "complete_df = (\n",
        "   XSS_df_with_type.select(\"Sentence\",\"Label\")\n",
        "   .union(Emcl_data.select(\"pattern\",\"type\").withColumnRenamed(\"pattern\",\"Sentence\").withColumnRenamed(\"type\",\"Label\"))\n",
        "   .union(Http_Params_df_processed.select(\"payload\",\"attack_type\").withColumnRenamed(\"pattern\",\"Sentence\").withColumnRenamed(\"type\",\"Label\"))\n",
        "   .union(Http_Params_lex_df_processed.select(\"payload\",\"attack_type\").withColumnRenamed(\"pattern\",\"Sentence\").withColumnRenamed(\"type\",\"Label\"))\n",
        ")"
      ],
      "metadata": {
        "id": "SDJyscIhixXP"
      },
      "execution_count": 11,
      "outputs": []
    },
    {
      "cell_type": "code",
      "source": [
        "import matplotlib.pyplot as plt\n",
        "counts = complete_df.groupBy(\"Label\").count().orderBy(\"count\",ascending=False)\n",
        "counts.show()\n",
        "label_counts = counts.collect()\n",
        "labels = [row[\"Label\"] for row in label_counts]\n",
        "counts = [row[\"count\"] for row in label_counts]\n",
        "\n",
        "# Plot the bar chart\n",
        "plt.pie(counts, labels=labels, startangle=90)\n",
        "plt.title(\"Label Distribution\")\n",
        "plt.show()"
      ],
      "metadata": {
        "colab": {
          "base_uri": "https://localhost:8080/",
          "height": 602
        },
        "id": "j_AO2CCEjKuo",
        "outputId": "d712728e-5804-4940-928a-652bb555e1c1"
      },
      "execution_count": 12,
      "outputs": [
        {
          "output_type": "stream",
          "name": "stdout",
          "text": [
            "+--------------+-----+\n",
            "|         Label|count|\n",
            "+--------------+-----+\n",
            "|         valid|61623|\n",
            "|          sqli|13240|\n",
            "|           xss| 9749|\n",
            "|          cmdi| 3461|\n",
            "|path-traversal| 3286|\n",
            "+--------------+-----+\n",
            "\n"
          ]
        },
        {
          "output_type": "display_data",
          "data": {
            "text/plain": [
              "<Figure size 640x480 with 1 Axes>"
            ],
            "image/png": "[encoded data removed]"
          },
          "metadata": {}
        }
      ]
    },
    {
      "cell_type": "code",
      "source": [
        "complete_df_numeric_labels = complete_df.withColumn(\"Label\", when(col(\"Label\") == \"valid\", 0)\n",
        "                                  .when(col(\"Label\") == \"sqli\", 1)\n",
        "                                   .when(col(\"Label\") == \"xss\", 2)\n",
        "                                   .when(col(\"Label\") == \"cmdi\", 3)\n",
        "                                   .when(col(\"Label\") == \"path-traversal\", 4)\n",
        "                                  .otherwise(col(\"Label\").cast(\"int\"))\n",
        "                  )"
      ],
      "metadata": {
        "id": "LcZvypBGjPIa"
      },
      "execution_count": 13,
      "outputs": []
    },
    {
      "cell_type": "markdown",
      "source": [
        "# Applying ML Models and Accuracy Metrics"
      ],
      "metadata": {
        "id": "m31lwXJzjRGZ"
      }
    },
    {
      "cell_type": "markdown",
      "source": [
        "# Tokenized and Vectorized Data"
      ],
      "metadata": {
        "id": "cF7qHLOJjgQC"
      }
    },
    {
      "cell_type": "code",
      "source": [
        "#Pipeline\n",
        "tokenizer = Tokenizer(inputCol=\"Sentence\",outputCol=\"words\")\n",
        "vectorizer = CountVectorizer(inputCol=\"words\",outputCol=\"features\")\n",
        "pipes = Pipeline(stages=[tokenizer,vectorizer])"
      ],
      "metadata": {
        "id": "Shy2X4MrjQF2"
      },
      "execution_count": 14,
      "outputs": []
    },
    {
      "cell_type": "code",
      "source": [
        "#transformed Data\n",
        "transformed_Data=pipes.fit(complete_df_numeric_labels).transform(complete_df_numeric_labels)\n",
        "(train_data,test_data)=transformed_Data.randomSplit([0.8,0.2],seed=123)\n",
        "transformed_Data.show()"
      ],
      "metadata": {
        "colab": {
          "base_uri": "https://localhost:8080/"
        },
        "id": "V5ydCpqwjnRb",
        "outputId": "17ff4ee8-cfe7-4ef0-f90f-1f70488cd852"
      },
      "execution_count": 15,
      "outputs": [
        {
          "output_type": "stream",
          "name": "stdout",
          "text": [
            "+--------------------+-----+--------------------+--------------------+\n",
            "|            Sentence|Label|               words|            features|\n",
            "+--------------------+-----+--------------------+--------------------+\n",
            "|<li><a href=\"/wik...|    0|[<li><a, href=\"/w...|(141448,[6,20,28,...|\n",
            "|<tt onmouseover=\"...|    2|[<tt, onmouseover...|(141448,[832,1107...|\n",
            "|\\t </span> <span ...|    0|[, , </span>, <sp...|(141448,[0,11,13,...|\n",
            "|\\t </span> <span ...|    0|[, , </span>, <sp...|(141448,[0,13,26,...|\n",
            "|\\t </span>. <a hr...|    0|[, , </span>., <a...|(141448,[0,6,13,2...|\n",
            "|<li id=\"cite_note...|    0|[<li, id=\"cite_no...|(141448,[6,13,47,...|\n",
            "|<li><a href=\"/wik...|    0|[<li><a, href=\"/w...|(141448,[6,19,28,...|\n",
            "|<li id=\"cite_note...|    0|[<li, id=\"cite_no...|(141448,[6,13,20,...|\n",
            "| <tr><td class=\"p...|    0|[, <tr><td, class...|(141448,[0,3338,3...|\n",
            "|       \\t </span>xss|    0|    [, , </span>xss]|(141448,[0,92],[2...|\n",
            "|<li><a href=\"/wik...|    0|[<li><a, href=\"/w...|(141448,[28,370,6...|\n",
            "|<a onblur=alert(1...|    2|[<a, onblur=alert...|(141448,[20,29,50...|\n",
            "|<col draggable=\"t...|    2|[<col, draggable=...|(141448,[35,866,1...|\n",
            "|<caption onpointe...|    2|[<caption, onpoin...|(141448,[831,1004...|\n",
            "|       \\t </span>xss|    0|    [, , </span>xss]|(141448,[0,92],[2...|\n",
            "|\\t </span><link r...|    0|[, , </span><link...|(141448,[0,19,94,...|\n",
            "|<caption id=x tab...|    2|[<caption, id=x, ...|(141448,[23,29,50...|\n",
            "|<style onmouselea...|    2|[<style, onmousel...|(141448,[533,1205...|\n",
            "|<svg><meta onload...|    2|[<svg><meta, onlo...|(141448,[44672,47...|\n",
            "|<li><a href=\"/wik...|    0|[<li><a, href=\"/w...|(141448,[6,19,28,...|\n",
            "+--------------------+-----+--------------------+--------------------+\n",
            "only showing top 20 rows\n",
            "\n"
          ]
        }
      ]
    },
    {
      "cell_type": "markdown",
      "source": [
        "# Logistic Regression"
      ],
      "metadata": {
        "id": "ZzyUJeEmjumy"
      }
    },
    {
      "cell_type": "code",
      "source": [
        "lr = LogisticRegression(featuresCol=\"features\", labelCol=\"Label\", maxIter=10)\n",
        "lr_model = lr.fit(train_data)\n",
        "lr_predictions = lr_model.transform(test_data)\n",
        "lr_evaluator = MulticlassClassificationEvaluator(labelCol=\"Label\", predictionCol=\"prediction\", metricName=\"accuracy\")\n",
        "lr_accuracy = lr_evaluator.evaluate(lr_predictions)\n",
        "print(f\"LR Accuracy: {lr_accuracy}\")"
      ],
      "metadata": {
        "colab": {
          "base_uri": "https://localhost:8080/"
        },
        "id": "Ax7FXe6ijtL3",
        "outputId": "c1ae142b-8a5a-4367-b122-9b7320591c80"
      },
      "execution_count": 16,
      "outputs": [
        {
          "output_type": "stream",
          "name": "stdout",
          "text": [
            "LR Accuracy: 0.9255012739559101\n"
          ]
        }
      ]
    },
    {
      "cell_type": "markdown",
      "source": [
        "# Random Forest"
      ],
      "metadata": {
        "id": "Mq5LVWbPj549"
      }
    },
    {
      "cell_type": "code",
      "source": [
        "rf = RandomForestClassifier(featuresCol=\"features\", labelCol=\"Label\", numTrees=10)\n",
        "rf_model = rf.fit(train_data)\n",
        "rf_predictions = rf_model.transform(test_data)\n",
        "rf_evaluator = MulticlassClassificationEvaluator(labelCol=\"Label\", predictionCol=\"prediction\", metricName=\"accuracy\")\n",
        "rf_accuracy = rf_evaluator.evaluate(rf_predictions)\n",
        "print(f\"Random Forest Accuracy: {rf_accuracy}\")"
      ],
      "metadata": {
        "colab": {
          "base_uri": "https://localhost:8080/"
        },
        "id": "kT1tSdvsj4nh",
        "outputId": "3f19da32-e7de-4e3b-9215-72f247dc5c41"
      },
      "execution_count": 18,
      "outputs": [
        {
          "output_type": "stream",
          "name": "stdout",
          "text": [
            "Random Forest Accuracy: 0.6803478453528304\n"
          ]
        }
      ]
    },
    {
      "cell_type": "markdown",
      "source": [
        "# K-Means"
      ],
      "metadata": {
        "id": "6ywyqDr4j9rb"
      }
    },
    {
      "cell_type": "code",
      "source": [
        "k=5\n",
        "transformed_Data=pipes.fit(complete_df).transform(complete_df)\n",
        "kmeans = KMeans(k=k, featuresCol=\"features\", predictionCol=\"prediction\")\n",
        "model = kmeans.fit(transformed_Data)\n",
        "clustered_data = model.transform(transformed_Data)\n",
        "evaluator = ClusteringEvaluator()\n",
        "score = evaluator.evaluate(clustered_data)\n",
        "print(f\"Clustering Score: {score}\")"
      ],
      "metadata": {
        "colab": {
          "base_uri": "https://localhost:8080/"
        },
        "id": "dvOiYqcLkBVD",
        "outputId": "cb2f0f4e-692a-43e8-d87b-a0aaf2d8cbdd"
      },
      "execution_count": 21,
      "outputs": [
        {
          "output_type": "stream",
          "name": "stdout",
          "text": [
            "Clustering Score: 0.4263114730191559\n"
          ]
        }
      ]
    },
    {
      "cell_type": "code",
      "source": [],
      "metadata": {
        "id": "VyIXRSz2n6_l"
      },
      "execution_count": null,
      "outputs": []
    }
  ]
}